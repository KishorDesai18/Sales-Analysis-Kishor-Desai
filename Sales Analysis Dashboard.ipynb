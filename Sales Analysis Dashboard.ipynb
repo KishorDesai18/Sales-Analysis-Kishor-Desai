{
 "cells": [
  {
   "cell_type": "markdown",
   "id": "027ae559",
   "metadata": {},
   "source": [
    "# Sales Analysis"
   ]
  },
  {
   "cell_type": "code",
   "execution_count": 1,
   "id": "bca481b5",
   "metadata": {},
   "outputs": [
    {
     "name": "stdout",
     "output_type": "stream",
     "text": [
      "  OrderID CustomerID ProductID  OrderDate   ShipDate         Category  \\\n",
      "0   ORD-1  CUST-1127  PROD-229 2022-11-17 2022-01-06            Books   \n",
      "1   ORD-2  CUST-1460  PROD-350 2022-04-18 2022-01-06  Home Appliances   \n",
      "2   ORD-3   CUST-861  PROD-275 2022-10-03 2022-01-02  Home Appliances   \n",
      "3   ORD-4  CUST-1295  PROD-442 2022-06-29 2022-01-05  Home Appliances   \n",
      "4   ORD-5  CUST-1131  PROD-279 2022-08-01 2022-01-02         Clothing   \n",
      "\n",
      "   SubCategory         Region  Quantity  UnitPrice  Discount  ShippingCost  \\\n",
      "0       Novels         Europe        19      64.14     27.77         34.51   \n",
      "1  Kitchenware  North America        16     428.01     21.73         47.46   \n",
      "2       Novels  South America         2      94.62     26.03         17.54   \n",
      "3       Shirts           Asia        15     363.26     19.12         26.23   \n",
      "4  Smartphones  South America         9      30.87     18.77         38.45   \n",
      "\n",
      "   TotalSales   Profit  \n",
      "0      880.24   114.53  \n",
      "1     5360.05  1203.69  \n",
      "2      139.98     8.90  \n",
      "3     4407.07  1111.50  \n",
      "4      225.68    20.53  \n",
      "Dataset saved to sales_data.csv\n"
     ]
    }
   ],
   "source": [
    "import pandas as pd\n",
    "import numpy as np\n",
    "from datetime import datetime, timedelta\n",
    "\n",
    "# Set random seed for reproducibility\n",
    "np.random.seed(42)\n",
    "\n",
    "# Number of rows\n",
    "n_orders = 10000\n",
    "\n",
    "# Generate data\n",
    "data = {\n",
    "    \"OrderID\": [f\"ORD-{i}\" for i in range(1, n_orders + 1)],\n",
    "    \"CustomerID\": [f\"CUST-{np.random.randint(1, 2001)}\" for _ in range(n_orders)],\n",
    "    \"ProductID\": [f\"PROD-{np.random.randint(1, 501)}\" for _ in range(n_orders)],\n",
    "    \"OrderDate\": [datetime(2022, 1, 1) + timedelta(days=np.random.randint(0, 365)) for _ in range(n_orders)],\n",
    "    \"ShipDate\": [datetime(2022, 1, 1) + timedelta(days=np.random.randint(1, 10)) for _ in range(n_orders)],\n",
    "    \"Category\": np.random.choice([\"Electronics\", \"Clothing\", \"Home Appliances\", \"Books\"], n_orders),\n",
    "    \"SubCategory\": np.random.choice([\"Smartphones\", \"Laptops\", \"Shirts\", \"Kitchenware\", \"Novels\"], n_orders),\n",
    "    \"Region\": np.random.choice([\"North America\", \"Europe\", \"Asia\", \"South America\"], n_orders),\n",
    "    \"Quantity\": np.random.randint(1, 20, n_orders),\n",
    "    \"UnitPrice\": np.round(np.random.uniform(10, 500, n_orders), 2),\n",
    "    \"Discount\": np.round(np.random.uniform(0, 30, n_orders), 2),\n",
    "    \"ShippingCost\": np.round(np.random.uniform(5, 50, n_orders), 2),\n",
    "}\n",
    "\n",
    "# Calculate TotalSales and Profit\n",
    "df = pd.DataFrame(data)\n",
    "df[\"TotalSales\"] = np.round(df[\"Quantity\"] * df[\"UnitPrice\"] * (1 - df[\"Discount\"] / 100), 2)\n",
    "df[\"Profit\"] = np.round(df[\"TotalSales\"] - (df[\"Quantity\"] * df[\"UnitPrice\"] * 0.6 + df[\"ShippingCost\"]), 2)\n",
    "\n",
    "# Display first few rows\n",
    "print(df.head())\n",
    "\n",
    "# Save to CSV\n",
    "output_file = \"sales_data.csv\"\n",
    "df.to_csv(output_file, index=False)\n",
    "print(f\"Dataset saved to {output_file}\")"
   ]
  },
  {
   "cell_type": "code",
   "execution_count": 2,
   "id": "e4d7c44e",
   "metadata": {},
   "outputs": [],
   "source": [
    "# Create a dictionary to store all KPI results\n",
    "kpi_results = {}"
   ]
  },
  {
   "cell_type": "code",
   "execution_count": 3,
   "id": "359861b7",
   "metadata": {},
   "outputs": [
    {
     "name": "stdout",
     "output_type": "stream",
     "text": [
      "Total Revenue: $21,860,909.95\n"
     ]
    }
   ],
   "source": [
    "# 1. Total Revenue\n",
    "kpi_results[\"Total Revenue\"] = f\"${df['TotalSales'].sum():,.2f}\"\n",
    "print(f\"Total Revenue: {kpi_results['Total Revenue']}\")"
   ]
  },
  {
   "cell_type": "code",
   "execution_count": 4,
   "id": "4f8e1abd",
   "metadata": {},
   "outputs": [
    {
     "name": "stdout",
     "output_type": "stream",
     "text": [
      "Average Order Value (AOV): $2,186.09\n"
     ]
    }
   ],
   "source": [
    "# 2. Average Order Value (AOV)\n",
    "kpi_results[\"Average Order Value (AOV)\"] = f\"${df['TotalSales'].mean():,.2f}\"\n",
    "print(f\"Average Order Value (AOV): {kpi_results['Average Order Value (AOV)']}\")"
   ]
  },
  {
   "cell_type": "code",
   "execution_count": 5,
   "id": "80398bcd",
   "metadata": {},
   "outputs": [
    {
     "name": "stdout",
     "output_type": "stream",
     "text": [
      "Profit Margin: 28.22%\n"
     ]
    }
   ],
   "source": [
    "# 3. Profit Margin\n",
    "profit_margin = (df[\"Profit\"].sum() / df[\"TotalSales\"].sum()) * 100\n",
    "kpi_results[\"Profit Margin\"] = f\"{profit_margin:.2f}%\"\n",
    "print(f\"Profit Margin: {kpi_results['Profit Margin']}\")"
   ]
  },
  {
   "cell_type": "code",
   "execution_count": 6,
   "id": "94b1cfb6",
   "metadata": {},
   "outputs": [
    {
     "name": "stdout",
     "output_type": "stream",
     "text": [
      "Top-Performing Product: PROD-77 with Sales $83,802.81\n"
     ]
    }
   ],
   "source": [
    "# 4. Top-Performing Product\n",
    "top_product = df.groupby(\"ProductID\")[\"TotalSales\"].sum().idxmax()\n",
    "top_product_sales = df.groupby(\"ProductID\")[\"TotalSales\"].sum().max()\n",
    "kpi_results[\"Top-Performing Product\"] = f\"{top_product} with Sales ${top_product_sales:,.2f}\"\n",
    "print(f\"Top-Performing Product: {kpi_results['Top-Performing Product']}\")\n"
   ]
  },
  {
   "cell_type": "code",
   "execution_count": 7,
   "id": "7fdc4fc3",
   "metadata": {},
   "outputs": [
    {
     "name": "stdout",
     "output_type": "stream",
     "text": [
      "CustomerID\n",
      "CUST-1800    39104.84\n",
      "CUST-685     34176.90\n",
      "CUST-1257    33221.90\n",
      "CUST-1261    32742.02\n",
      "CUST-1953    32361.54\n",
      "Name: TotalSales, dtype: float64\n"
     ]
    }
   ],
   "source": [
    "# 5. Customer Lifetime Value (CLV)\n",
    "clv = df.groupby(\"CustomerID\")[\"TotalSales\"].sum().sort_values(ascending=False).head()\n",
    "clv_csv = clv.reset_index()\n",
    "clv_csv.columns = [\"CustomerID\", \"TotalSales\"]\n",
    "print(clv)\n"
   ]
  },
  {
   "cell_type": "code",
   "execution_count": 8,
   "id": "886ad602",
   "metadata": {},
   "outputs": [
    {
     "name": "stdout",
     "output_type": "stream",
     "text": [
      "Category\n",
      "Books              25.215970\n",
      "Clothing           24.868947\n",
      "Electronics        24.476043\n",
      "Home Appliances    25.439040\n",
      "Name: TotalSales, dtype: float64\n"
     ]
    }
   ],
   "source": [
    "# 6. Category Revenue Distribution\n",
    "category_revenue = df.groupby(\"Category\")[\"TotalSales\"].sum()\n",
    "category_revenue_percentage = (category_revenue / df[\"TotalSales\"].sum()) * 100\n",
    "kpi_results[\"Category Revenue Distribution\"] = category_revenue_percentage.to_dict()\n",
    "print(category_revenue_percentage)\n"
   ]
  },
  {
   "cell_type": "code",
   "execution_count": 9,
   "id": "d6022676",
   "metadata": {},
   "outputs": [
    {
     "name": "stdout",
     "output_type": "stream",
     "text": [
      "               TotalSales      Profit\n",
      "Region                               \n",
      "Asia           5483678.31  1537789.71\n",
      "Europe         5514968.17  1556859.46\n",
      "North America  5483025.74  1553997.54\n",
      "South America  5379237.73  1520630.58\n"
     ]
    }
   ],
   "source": [
    "# 7. Region Performance\n",
    "region_performance = df.groupby(\"Region\")[[\"TotalSales\", \"Profit\"]].sum()\n",
    "kpi_results[\"Region Performance\"] = region_performance.to_dict()\n",
    "print(region_performance)\n"
   ]
  },
  {
   "cell_type": "code",
   "execution_count": 10,
   "id": "4c408f9c",
   "metadata": {},
   "outputs": [
    {
     "name": "stdout",
     "output_type": "stream",
     "text": [
      "Discount Effectiveness (Correlation between Discount and Quantity): 0.00\n"
     ]
    }
   ],
   "source": [
    "# 8. Discount Effectiveness\n",
    "discount_correlation = df[\"Discount\"].corr(df[\"Quantity\"])\n",
    "kpi_results[\"Discount Effectiveness\"] = f\"{discount_correlation:.2f}\"\n",
    "print(f\"Discount Effectiveness (Correlation between Discount and Quantity): {discount_correlation:.2f}\")\n"
   ]
  },
  {
   "cell_type": "code",
   "execution_count": 11,
   "id": "abe8dca8",
   "metadata": {},
   "outputs": [
    {
     "name": "stdout",
     "output_type": "stream",
     "text": [
      "Shipping Cost Impact: 1.26%\n"
     ]
    }
   ],
   "source": [
    "# 9. Shipping Cost Impact\n",
    "shipping_cost_impact = (df[\"ShippingCost\"].sum() / df[\"TotalSales\"].sum()) * 100\n",
    "kpi_results[\"Shipping Cost Impact\"] = f\"{shipping_cost_impact:.2f}%\"\n",
    "print(f\"Shipping Cost Impact: {shipping_cost_impact:.2f}%\")\n"
   ]
  },
  {
   "cell_type": "code",
   "execution_count": 12,
   "id": "a3f8004e",
   "metadata": {},
   "outputs": [
    {
     "name": "stdout",
     "output_type": "stream",
     "text": [
      "Average Fulfillment Time: -176.74 days\n"
     ]
    }
   ],
   "source": [
    "# 10. Average Fulfillment Time\n",
    "df[\"FulfillmentTime\"] = (df[\"ShipDate\"] - df[\"OrderDate\"]).dt.days\n",
    "avg_fulfillment_time = df[\"FulfillmentTime\"].mean()\n",
    "kpi_results[\"Average Fulfillment Time\"] = f\"{avg_fulfillment_time:.2f} days\"\n",
    "print(f\"Average Fulfillment Time: {avg_fulfillment_time:.2f} days\")"
   ]
  },
  {
   "cell_type": "code",
   "execution_count": 13,
   "id": "67c00fa6",
   "metadata": {},
   "outputs": [
    {
     "name": "stdout",
     "output_type": "stream",
     "text": [
      "Revenue-Weighted Profitability: {'Profitability': {'Asia': 28.043032852523403, 'Europe': 28.22970889422196, 'North America': 28.34197054125082, 'South America': 28.26851417105895}, 'RevenueWeight': {'Asia': 25.084400981213495, 'Europe': 25.22753253461894, 'North America': 25.081415881318332, 'South America': 24.606650602849218}, 'WeightedProfitability': {'Asia': 7.034426808020402, 'Europe': 7.121658995718062, 'North America': 7.108567500411847, 'South America': 6.955934512689393}}\n"
     ]
    }
   ],
   "source": [
    "# 11. Revenue-Weighted Profitability by Customer Segment\n",
    "segment_performance = df.groupby(\"Region\").agg({\n",
    "    \"TotalSales\": \"sum\",\n",
    "    \"Profit\": \"sum\"\n",
    "})\n",
    "segment_performance[\"Profitability\"] = segment_performance[\"Profit\"] / segment_performance[\"TotalSales\"] * 100\n",
    "segment_performance[\"RevenueWeight\"] = segment_performance[\"TotalSales\"] / df[\"TotalSales\"].sum() * 100\n",
    "segment_performance[\"WeightedProfitability\"] = segment_performance[\"Profitability\"] * segment_performance[\"RevenueWeight\"] / 100\n",
    "kpi_results[\"Revenue-Weighted Profitability\"] = segment_performance[[\"Profitability\", \"RevenueWeight\", \"WeightedProfitability\"]].to_dict()\n",
    "print(f\"Revenue-Weighted Profitability: {kpi_results['Revenue-Weighted Profitability']}\")"
   ]
  },
  {
   "cell_type": "code",
   "execution_count": 14,
   "id": "c0166710",
   "metadata": {},
   "outputs": [
    {
     "name": "stdout",
     "output_type": "stream",
     "text": [
      "Repeat Purchase Rate: 96.28%\n"
     ]
    }
   ],
   "source": [
    "# 12. Repeat Purchase Rate\n",
    "repeat_customers = df[\"CustomerID\"].value_counts()\n",
    "repeat_purchase_rate = (repeat_customers[repeat_customers > 1].count() / repeat_customers.count()) * 100\n",
    "kpi_results[\"Repeat Purchase Rate\"] = f\"{repeat_purchase_rate:.2f}%\"\n",
    "print(f\"Repeat Purchase Rate: {kpi_results['Repeat Purchase Rate']}\")"
   ]
  },
  {
   "cell_type": "code",
   "execution_count": 15,
   "id": "67eca760",
   "metadata": {},
   "outputs": [
    {
     "name": "stdout",
     "output_type": "stream",
     "text": [
      "Customer Churn Rate: 3.72%\n"
     ]
    }
   ],
   "source": [
    "# 13. Customer Churn Rate\n",
    "customer_orders = df.groupby(\"CustomerID\").agg({\n",
    "    \"OrderDate\": \"count\",\n",
    "    \"TotalSales\": \"sum\"\n",
    "}).rename(columns={\"OrderDate\": \"OrderCount\", \"TotalSales\": \"TotalRevenue\"})\n",
    "customer_orders[\"RevenuePerOrder\"] = customer_orders[\"TotalRevenue\"] / customer_orders[\"OrderCount\"]\n",
    "churn_customers = customer_orders[customer_orders[\"OrderCount\"] < 2]\n",
    "churn_rate = (churn_customers.shape[0] / customer_orders.shape[0]) * 100\n",
    "kpi_results[\"Customer Churn Rate\"] = f\"{churn_rate:.2f}%\"\n",
    "print(f\"Customer Churn Rate: {kpi_results['Customer Churn Rate']}\")"
   ]
  },
  {
   "cell_type": "code",
   "execution_count": 16,
   "id": "d34c4e10",
   "metadata": {},
   "outputs": [
    {
     "name": "stdout",
     "output_type": "stream",
     "text": [
      "Time Decay Revenue Trend: {1: 3.0993314856672105e-10, 2: 5.7316512157578305e-09, 3: 1.5826329520482461e-07, 4: 3.418319612201721e-06, 5: 9.812627571762682e-05, 6: 0.0020611154132706335, 7: 0.05784092322017145, 8: 1.509281981891807, 9: 32.90379386553637, 10: 883.5733784940035, 11: 23147.683147051368, 12: 535946.6576839592}\n"
     ]
    }
   ],
   "source": [
    "# 14. Time Decay Revenue Trends\n",
    "def time_decay_revenue(order_date, sales, decay_factor=0.9):\n",
    "    days_from_last_order = (df[\"OrderDate\"].max() - order_date).dt.days\n",
    "    return sales * (decay_factor ** days_from_last_order)\n",
    "\n",
    "df[\"DecayWeightedSales\"] = time_decay_revenue(df[\"OrderDate\"], df[\"TotalSales\"])\n",
    "time_decay_revenue_trend = df.groupby(df[\"OrderDate\"].dt.month)[\"DecayWeightedSales\"].sum()\n",
    "kpi_results[\"Time Decay Revenue Trend\"] = time_decay_revenue_trend.to_dict()\n",
    "print(f\"Time Decay Revenue Trend: {kpi_results['Time Decay Revenue Trend']}\")"
   ]
  },
  {
   "cell_type": "code",
   "execution_count": 17,
   "id": "20fd06c9",
   "metadata": {},
   "outputs": [
    {
     "name": "stdout",
     "output_type": "stream",
     "text": [
      "Inventory Risk by Subcategory: {'Kitchenware': -21056, 'Laptops': -20222, 'Novels': -19082, 'Shirts': -18600, 'Smartphones': -18879}\n"
     ]
    }
   ],
   "source": [
    "# 15. Inventory Risk by Subcategory\n",
    "stock_data = df.groupby(\"SubCategory\")[\"Quantity\"].sum()\n",
    "initial_stock = 100 * df[\"SubCategory\"].nunique()\n",
    "inventory_risk = initial_stock - stock_data\n",
    "kpi_results[\"Inventory Risk by Subcategory\"] = inventory_risk.to_dict()\n",
    "print(f\"Inventory Risk by Subcategory: {kpi_results['Inventory Risk by Subcategory']}\")"
   ]
  },
  {
   "cell_type": "code",
   "execution_count": 18,
   "id": "52f729a4",
   "metadata": {},
   "outputs": [
    {
     "name": "stdout",
     "output_type": "stream",
     "text": [
      "Total Profit Leakage: $4,107,987.53\n"
     ]
    }
   ],
   "source": [
    "# 16. Profit Leakage\n",
    "df[\"DiscountImpact\"] = df[\"Quantity\"] * df[\"UnitPrice\"] * (df[\"Discount\"] / 100)\n",
    "df[\"ProfitLeakage\"] = df[\"DiscountImpact\"] + df[\"ShippingCost\"]\n",
    "total_leakage = df[\"ProfitLeakage\"].sum()\n",
    "kpi_results[\"Total Profit Leakage\"] = f\"${total_leakage:,.2f}\"\n",
    "print(f\"Total Profit Leakage: {kpi_results['Total Profit Leakage']}\")"
   ]
  },
  {
   "cell_type": "code",
   "execution_count": 19,
   "id": "130ea2a2",
   "metadata": {},
   "outputs": [
    {
     "name": "stdout",
     "output_type": "stream",
     "text": [
      "Customer Dependency Risk: 11.93%\n"
     ]
    }
   ],
   "source": [
    "# 17. Customer Dependency Risk\n",
    "top_5_percent_customers = int(0.05 * df[\"CustomerID\"].nunique())\n",
    "top_customers_revenue = df.groupby(\"CustomerID\")[\"TotalSales\"].sum().nlargest(top_5_percent_customers).sum()\n",
    "dependency_risk = (top_customers_revenue / df[\"TotalSales\"].sum()) * 100\n",
    "kpi_results[\"Customer Dependency Risk\"] = f\"{dependency_risk:.2f}%\"\n",
    "print(f\"Customer Dependency Risk: {kpi_results['Customer Dependency Risk']}\")"
   ]
  },
  {
   "cell_type": "code",
   "execution_count": 20,
   "id": "6fb3b6cd",
   "metadata": {},
   "outputs": [
    {
     "name": "stdout",
     "output_type": "stream",
     "text": [
      "Cost-to-Serve Index: {'Asia': 19.08804349661058, 'Europe': 18.774540578735564, 'North America': 18.58224668224884, 'South America': 18.719777322055627}\n"
     ]
    }
   ],
   "source": [
    "# 18. Cost-to-Serve Index\n",
    "region_cost_to_serve = df.groupby(\"Region\").agg({\n",
    "    \"ShippingCost\": \"sum\",\n",
    "    \"DiscountImpact\": \"sum\",\n",
    "    \"TotalSales\": \"sum\"\n",
    "})\n",
    "region_cost_to_serve[\"CostToServeIndex\"] = (region_cost_to_serve[\"ShippingCost\"] + region_cost_to_serve[\"DiscountImpact\"]) / region_cost_to_serve[\"TotalSales\"] * 100\n",
    "kpi_results[\"Cost-to-Serve Index\"] = region_cost_to_serve[\"CostToServeIndex\"].to_dict()\n",
    "print(f\"Cost-to-Serve Index: {kpi_results['Cost-to-Serve Index']}\")"
   ]
  },
  {
   "cell_type": "code",
   "execution_count": 21,
   "id": "feb32230",
   "metadata": {},
   "outputs": [
    {
     "name": "stdout",
     "output_type": "stream",
     "text": [
      "Cross-Sell Opportunity Score: 2.86\n"
     ]
    }
   ],
   "source": [
    "# 19. Cross-Sell Opportunity Score\n",
    "cross_sell_score = df.groupby(\"CustomerID\")[\"Category\"].nunique().mean()\n",
    "kpi_results[\"Cross-Sell Opportunity Score\"] = f\"{cross_sell_score:.2f}\"\n",
    "print(f\"Cross-Sell Opportunity Score: {kpi_results['Cross-Sell Opportunity Score']}\")"
   ]
  },
  {
   "cell_type": "code",
   "execution_count": 22,
   "id": "2f5b6268",
   "metadata": {},
   "outputs": [
    {
     "name": "stdout",
     "output_type": "stream",
     "text": [
      "Seasonal Sales Sensitivity: {'Books': {1: 517738.54, 2: 443941.7, 3: 441536.17, 4: 424375.6, 5: 519235.58, 6: 449500.99, 7: 446162.25, 8: 443458.06, 9: 437129.94, 10: 462703.87, 11: 497590.18, 12: 429067.69}, 'Clothing': {1: 406832.51, 2: 411949.71, 3: 486005.11, 4: 387701.69, 5: 440744.62, 6: 480010.47, 7: 561190.35, 8: 500007.61, 9: 431425.59, 10: 393290.07, 11: 449365.14, 12: 488055.14}, 'Electronics': {1: 470013.21, 2: 435174.88, 3: 493101.77, 4: 445353.59, 5: 467604.87, 6: 381611.32, 7: 486347.05, 8: 492502.46, 9: 434195.6, 10: 428343.61, 11: 421287.55, 12: 395149.76}, 'Home Appliances': {1: 481606.59, 2: 417128.15, 3: 481256.84, 4: 442714.61, 5: 489573.87, 6: 433401.99, 7: 439591.89, 8: 499756.04, 9: 439056.64, 10: 495307.73, 11: 439196.65, 12: 502614.7}}\n"
     ]
    }
   ],
   "source": [
    "# 20. Seasonal Sales Sensitivity\n",
    "df[\"Month\"] = df[\"OrderDate\"].dt.month\n",
    "seasonal_sales = df.groupby([\"Month\", \"Category\"])[\"TotalSales\"].sum().unstack()\n",
    "kpi_results[\"Seasonal Sales Sensitivity\"] = seasonal_sales.to_dict()\n",
    "print(f\"Seasonal Sales Sensitivity: {kpi_results['Seasonal Sales Sensitivity']}\")"
   ]
  },
  {
   "cell_type": "code",
   "execution_count": 23,
   "id": "978caecb",
   "metadata": {},
   "outputs": [
    {
     "name": "stdout",
     "output_type": "stream",
     "text": [
      "All KPI results saved to 'all_kpi_results.csv'\n"
     ]
    }
   ],
   "source": [
    "# Save all outputs to CSV\n",
    "kpi_output = pd.DataFrame(list(kpi_results.items()), columns=[\"KPI\", \"Value\"])\n",
    "kpi_output.to_csv(\"all_kpi_results.csv\", index=False)\n",
    "\n",
    "print(\"All KPI results saved to 'all_kpi_results.csv'\")"
   ]
  },
  {
   "cell_type": "code",
   "execution_count": null,
   "id": "633efd2e",
   "metadata": {},
   "outputs": [],
   "source": []
  }
 ],
 "metadata": {
  "kernelspec": {
   "display_name": "Python 3 (ipykernel)",
   "language": "python",
   "name": "python3"
  },
  "language_info": {
   "codemirror_mode": {
    "name": "ipython",
    "version": 3
   },
   "file_extension": ".py",
   "mimetype": "text/x-python",
   "name": "python",
   "nbconvert_exporter": "python",
   "pygments_lexer": "ipython3",
   "version": "3.11.5"
  }
 },
 "nbformat": 4,
 "nbformat_minor": 5
}
